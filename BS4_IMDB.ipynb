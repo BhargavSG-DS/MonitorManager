{
  "nbformat": 4,
  "nbformat_minor": 0,
  "metadata": {
    "colab": {
      "provenance": [],
      "authorship_tag": "ABX9TyObUMDtx/N/w0cpkNzUQ5TK",
      "include_colab_link": true
    },
    "kernelspec": {
      "name": "python3",
      "display_name": "Python 3"
    },
    "language_info": {
      "name": "python"
    }
  },
  "cells": [
    {
      "cell_type": "markdown",
      "metadata": {
        "id": "view-in-github",
        "colab_type": "text"
      },
      "source": [
        "<a href=\"https://colab.research.google.com/github/bhargavgadhiyaNarayana/MonitorManager/blob/main/BS4_IMDB.ipynb\" target=\"_parent\"><img src=\"https://colab.research.google.com/assets/colab-badge.svg\" alt=\"Open In Colab\"/></a>"
      ]
    },
    {
      "cell_type": "code",
      "execution_count": 89,
      "metadata": {
        "id": "Z7SNLZ4MfQzm"
      },
      "outputs": [],
      "source": [
        "import requests\n",
        "from bs4 import BeautifulSoup\n",
        "from datetime import datetime"
      ]
    },
    {
      "cell_type": "code",
      "source": [
        "url = 'https://www.imdb.com/chart/top/'"
      ],
      "metadata": {
        "id": "-Kk5NEhMfcd8"
      },
      "execution_count": 90,
      "outputs": []
    },
    {
      "cell_type": "code",
      "source": [
        "HEADERS = {\n",
        "        \"User-Agent\": \"Mozilla/5.0 (Windows NT 10.0; Win64; x64; rv:98.0) Gecko/20100101 Firefox/98.0\",\n",
        "        \"Accept\": \"text/html,application/xhtml+xml,application/xml;q=0.9,image/avif,image/webp,*/*;q=0.8\",\n",
        "        \"Accept-Language\": \"en-US,en;q=0.5\",\n",
        "        \"Accept-Encoding\": \"gzip, deflate\",\n",
        "        \"Connection\": \"keep-alive\",\n",
        "        \"Upgrade-Insecure-Requests\": \"1\",\n",
        "        \"Sec-Fetch-Dest\": \"document\",\n",
        "        \"Sec-Fetch-Mode\": \"navigate\",\n",
        "        \"Sec-Fetch-Site\": \"none\",\n",
        "        \"Sec-Fetch-User\": \"?1\",\n",
        "        \"Cache-Control\": \"max-age=0\",\n",
        "    }\n",
        "res = requests.get(url,headers=HEADERS)"
      ],
      "metadata": {
        "id": "sbZmG3Kjfc1T"
      },
      "execution_count": 91,
      "outputs": []
    },
    {
      "cell_type": "code",
      "source": [
        "html_content = res.text\n",
        "soup = BeautifulSoup(html_content,\"html.parser\")\n",
        "list_of_movie_list =  soup.find_all('li',{'class':'ipc-metadata-list-summary-item sc-1364e729-0 caNpAE cli-parent'})"
      ],
      "metadata": {
        "id": "v81vWIk9-n3E"
      },
      "execution_count": 96,
      "outputs": []
    },
    {
      "cell_type": "code",
      "source": [
        "base_url = \"https://www.imdb.com\"\n",
        "# mov_list = list()\n",
        "for movie_li in list_of_movie_list[:251]:\n",
        "  mov_detail_link = movie_li.find('a',{'class':'ipc-title-link-wrapper'}).get('href')\n",
        "  durl = base_url + mov_detail_link\n",
        "  res_detail = requests.get(durl,headers=HEADERS)\n",
        "  detail_html_content = res_detail.text\n",
        "  soup_detail = BeautifulSoup(detail_html_content,\"html.parser\")\n",
        "  # mov_name = soup_detail.find('span',{'data-testid':'hero__primary-text'}).text\n",
        "  # mov_meta_data = list()\n",
        "  # for meta_data in soup_detail.find('ul',{'class':'ipc-inline-list ipc-inline-list--show-dividers sc-d8941411-2 cdJsTz baseAlt'}).children:\n",
        "  #   mov_meta_data.append(meta_data.text)\n",
        "  # mov_genre = list()\n",
        "  # for genre_list in soup_detail.find('div',{'class':'ipc-chip-list__scroller'}).children:\n",
        "  #   mov_genre.append(genre_list.text)\n",
        "  # mov_genre = \"|\".join(mov_genre)\n",
        "  # mov_rating = soup_detail.find(\"span\",{'class':'sc-bde20123-1 cMEQkK'}).text\n",
        "  # mov_description = soup_detail.find(\"span\",{'data-testid':'plot-xl'}).text\n",
        "  for mov_director in soup_detail.find(\"li\",{'data-testid':'title-pc-principal-credit'}).children:\n",
        "    print(mov_director)\n",
        "\n",
        "  # print(mov_name, mov_meta_data, mov_genre, mov_rating, mov_description)\n",
        "  break\n",
        "  # mov_list.append(mov_name)\n",
        "# print(mov_list[0])"
      ],
      "metadata": {
        "id": "4LGgzELYMx7w"
      },
      "execution_count": null,
      "outputs": []
    },
    {
      "cell_type": "code",
      "source": [
        "with open(f\"Imdb_top_250_movies_meta_data_{datetime.now()}.csv\",\"a+\") as f:\n",
        "  f.write(\"sep=;\\n\")\n",
        "  f.write(\"Movie Name;Movie_Year;Movie_Duration;Movie_Rating;Movie_Public_Rating;Movie_Rating_Count\\n\")\n",
        "  for movie_li in list_of_movie_list[:251]:\n",
        "    mov_name = ((movie_li.find_all('h3',{'class':'ipc-title__text'})[0].text).replace('.','|',1)).split('|')[1]\n",
        "    mov_rating, mov_rating_count = movie_li.find('span',{'data-testid':'ratingGroup--imdb-rating'}).text.split(\"\\xa0\")\n",
        "    mov_meta_data=list()\n",
        "    for meta_data in movie_li.find('div',{'class','sc-be6f1408-7 iUtHEN cli-title-metadata'}).children:\n",
        "      mov_meta_data.append(meta_data.text)\n",
        "    if(len(mov_meta_data) == 2): mov_meta_data.append(\"Not Rated\")\n",
        "    f.write(f\"{mov_name.strip()};{mov_meta_data[0]};{mov_meta_data[1]};{mov_meta_data[2]};{mov_rating};{mov_rating_count}\\n\")\n",
        "  f.close()"
      ],
      "metadata": {
        "id": "3bARJv5GMwDU"
      },
      "execution_count": null,
      "outputs": []
    }
  ]
}